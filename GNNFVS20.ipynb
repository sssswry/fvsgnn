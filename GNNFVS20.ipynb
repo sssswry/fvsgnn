{
 "cells": [
  {
   "cell_type": "code",
   "execution_count": null,
   "id": "62dbd0c0-c295-4113-a65a-642279c9a8df",
   "metadata": {},
   "outputs": [],
   "source": [
    "import torch\n",
    "import numpy as np\n",
    "import torch.nn as nn\n",
    "import torch.nn.functional as F\n",
    "import torch\n",
    "import torch.optim as optim\n",
    "import torch.nn as nn\n",
    "from torch_geometric.data import Data, DataLoader\n",
    "from torch_geometric.nn import GCNConv\n",
    "import torch_geometric.utils as utils\n",
    "from torch_geometric.nn import GCNConv\n",
    "from torch.nn import CrossEntropyLoss\n",
    "from torch.optim import Adam"
   ]
  },
  {
   "cell_type": "code",
   "execution_count": null,
   "id": "e06f9087-3e14-44b4-be40-757a904445ae",
   "metadata": {},
   "outputs": [],
   "source": [
    "data=np.load('graphs_data.npz')\n",
    "print(len(data))"
   ]
  },
  {
   "cell_type": "code",
   "execution_count": null,
   "id": "4208adce-5242-456e-802b-1fd5d683513d",
   "metadata": {},
   "outputs": [],
   "source": [
    "def binary_label(matrix,vector):\n",
    "    vector_selection=random_row = vector[np.random.randint(vector.shape[0])]\n",
    "    label=np.zeros(len(matrix))\n",
    "    for i in range(0,len(vector_selection)):\n",
    "        loc= vector_selection[i]\n",
    "        label[loc]=1 \n",
    "    return label"
   ]
  },
  {
   "cell_type": "code",
   "execution_count": null,
   "id": "7e5067e4-7c1e-4ec4-bfa5-d32c47ef6424",
   "metadata": {},
   "outputs": [],
   "source": [
    "import torch\n",
    "import torch.nn as nn\n",
    "import torch.optim as optim\n",
    "import matplotlib.pyplot as plt\n",
    "class GCNConv(nn.Module):\n",
    "    def __init__(self, A, in_channels, out_channels):\n",
    "        super(GCNConv, self).__init__()\n",
    "        self.A_hat = A+torch.eye(A.size(0))\n",
    "        self.D     = torch.diag(torch.sum(self.A_hat,1))\n",
    "        self.D     = self.D.inverse().sqrt()\n",
    "        self.A_hat = torch.mm(torch.mm(self.D, self.A_hat), self.D)\n",
    "        self.W     = nn.Parameter(torch.rand(in_channels,out_channels, requires_grad=True))\n",
    "    def forward(self, X):\n",
    "        out = torch.relu(torch.mm(torch.mm(self.A_hat, X), self.W))\n",
    "        return torch.sigmoid(out)\n",
    "\n",
    "class Net(torch.nn.Module):\n",
    "    def __init__(self,A, nfeat, nhid, nout):\n",
    "        super(Net, self).__init__()\n",
    "        self.conv1 = GCNConv(A,nfeat, nhid,)\n",
    "        self.conv2 = GCNConv(A,nhid, nout)        \n",
    "    def forward(self,X):\n",
    "        H  = self.conv1(X)\n",
    "        H2 = self.conv2(H)\n",
    "        return H2\n"
   ]
  },
  {
   "cell_type": "code",
   "execution_count": null,
   "id": "1223c72e-c725-480d-8a2d-3a99f2083c1b",
   "metadata": {},
   "outputs": [],
   "source": [
    "for i in range (1,50):\n",
    "        \n",
    "    matrix=data['adj_matrix_{}'.format(i)]\n",
    "    vector=data['lables_{}'.format(i)]\n",
    "    label=binary_label(matrix,vector)\n",
    "\n",
    "    A=torch.Tensor(matrix)\n",
    "    target=torch.LongTensor(label)\n",
    "    X=torch.eye(A.size(0))\n",
    "    T=Net(A,X.size(0), 64, 2)\n",
    "    criterion = torch.nn.CrossEntropyLoss(ignore_index=-1)\n",
    "    optimizer = optim.Adam(T.parameters(), lr=0.01)\n",
    "    total_loss =0  \n",
    "    for j in range(200):\n",
    "        optimizer.zero_grad()\n",
    "        output = T(X)\n",
    "        loss=criterion(output, target)\n",
    "        loss.backward()\n",
    "        optimizer.step()\n",
    "        total_loss += loss.item()\n",
    "        if j %200==0:\n",
    "             print(\"Cross Entropy Loss: =\", loss.item())"
   ]
  },
  {
   "cell_type": "code",
   "execution_count": null,
   "id": "806cda7e-68fc-4423-8651-6e4acfa9c726",
   "metadata": {},
   "outputs": [],
   "source": [
    "import numpy as np\n",
    "import matplotlib.pyplot as plt\n",
    "import networkx as nx\n",
    "import queue \n",
    "import copy\n",
    "from itertools import combinations\n",
    "#参数设置 Parameter settings\n",
    "n=500\n",
    "p=0.3\n",
    "G=nx.erdos_renyi_graph(n,p,directed=True)\n",
    "nx.draw(G, with_labels=True, node_color='skyblue',\n",
    "        edge_color='black')\n",
    "plt.show()\n",
    "A=nx.adjacency_matrix(G)\n",
    "matrix_test=A.todense()"
   ]
  },
  {
   "cell_type": "code",
   "execution_count": null,
   "id": "c232c90b-4d14-45a7-9fc0-bb7d19ba860b",
   "metadata": {
    "tags": []
   },
   "outputs": [],
   "source": [
    "#判断有环没有\n",
    "import queue\n",
    "def graph_is_ring(matrix):\n",
    "    n=len(matrix)\n",
    "    q=queue.Queue()\n",
    "    visited=[]\n",
    "    degrees= matrix.sum(axis=0)\n",
    "    for i in range (0,n):\n",
    "        if degrees[i]==0:\n",
    "            q.put(i)\n",
    "            visited.append(i)\n",
    "    while not q.empty():\n",
    "        i=q.get()\n",
    "        for j in range(0,n):\n",
    "            if int(matrix[i][j])==1:\n",
    "                degrees[j]-=1\n",
    "                if degrees[j]==0:\n",
    "                    q.put(j)\n",
    "                    visited.append(j)\n",
    "    if len(visited)==n:\n",
    "         return False\n",
    "    else:\n",
    "         return  True"
   ]
  },
  {
   "cell_type": "code",
   "execution_count": null,
   "id": "5a88ade2-bce0-4447-892f-318e57443d78",
   "metadata": {},
   "outputs": [],
   "source": [
    "#贪婪算法\n",
    "def find_max_sum_degree(matrix):\n",
    "    degrees= matrix.sum(axis=0)+np.sum(matrix,axis=1)\n",
    "    max_degrees = max(degrees)\n",
    "    for i in range (len(matrix)):\n",
    "        if degrees[i] == max_degrees:\n",
    "            loc=i\n",
    "    return loc\n",
    "\n",
    "def greedy_solution_sum(matrix):\n",
    "    visited_node=[]\n",
    "    while graph_is_ring(matrix) ==True:\n",
    "        node=find_max_sum_degree(matrix)\n",
    "        matrix[node,:]=0\n",
    "        matrix[:,node]=0\n",
    "        visited_node.append(node)\n",
    "    return  visited_node\n",
    "def find_max_mul_degree(matrix):\n",
    "    row_summs=np.sum(matrix,axis=1)\n",
    "    column_summs=np.sum(matrix,axis=0)\n",
    "    degrees=[x*y for x,y in zip(row_summs,column_summs)]\n",
    "    max_degrees = max(degrees)\n",
    "    for i in range (len(matrix)):\n",
    "        if degrees[i] == max_degrees:\n",
    "            loc=i\n",
    "    return loc\n",
    "\n",
    "def greedy_solution_mul(matrix):\n",
    "    visited_node=[]\n",
    "    while graph_is_ring(matrix) ==True:\n",
    "        node=find_max_mul_degree(matrix)\n",
    "        matrix[node,:]=0\n",
    "        matrix[:,node]=0\n",
    "        visited_node.append(node)\n",
    "    return  visited_node"
   ]
  },
  {
   "cell_type": "code",
   "execution_count": null,
   "id": "d490d1b0-1208-4645-851f-6a654eef896a",
   "metadata": {},
   "outputs": [],
   "source": [
    "#贪婪算法\n",
    "def find_max(matrix):\n",
    "    row_summs=np.sum(matrix,axis=1)\n",
    "    column_summs=np.sum(matrix,axis=0)\n",
    "    degrees=[0]*len(row_summs)\n",
    "    for i in range(len(row_summs)):\n",
    "        if row_summs[i]> column_summs[i]:\n",
    "              degrees[i]=row_summs[i]\n",
    "        else:\n",
    "            degrees[i]=column_summs[i]\n",
    "    return degrees\n",
    "\n",
    "def find_max_degree(matrix):\n",
    "    degrees= find_max(matrix)\n",
    "    max_degrees = max(degrees)\n",
    "    for i in range (len(matrix)):\n",
    "        if degrees[i] == max_degrees:\n",
    "            loc=i\n",
    "    return loc\n",
    "\n",
    "def greedy_solution_max(matrix):\n",
    "    visited_node=[]\n",
    "    while graph_is_ring(matrix) ==True:\n",
    "        node=find_max_degree(matrix)\n",
    "        matrix[node,:]=0\n",
    "        matrix[:,node]=0\n",
    "        visited_node.append(node)\n",
    "    return  visited_node"
   ]
  },
  {
   "cell_type": "code",
   "execution_count": null,
   "id": "db487e60-c7ed-4a1d-bac3-906a2c3a7d3a",
   "metadata": {
    "tags": []
   },
   "outputs": [],
   "source": [
    "matrix_test1=copy.copy(matrix_test)\n",
    "matrix_test2=copy.copy(matrix_test)\n",
    "matrix_test3=copy.copy(matrix_test)\n",
    "solution_sum=greedy_solution_sum(matrix_test1)\n",
    "solution_mul=greedy_solution_mul(matrix_test2)\n",
    "solution_max=greedy_solution_max(matrix_test3)\n",
    "print(len(solution_sum))\n",
    "print(len(solution_mul))\n",
    "print(len(solution_max))\n",
    "#print(solution_sum)\n",
    "#print(solution_mul)\n",
    "#print(solution_max)"
   ]
  },
  {
   "cell_type": "code",
   "execution_count": null,
   "id": "4ee9ce81-8e8b-47bd-9e92-e75725ed7f7b",
   "metadata": {},
   "outputs": [],
   "source": [
    "# 根据值排序，选择前n个最大的值\n",
    "def find_largest_n_indices(lst, n):\n",
    "    indexed_lst = list(enumerate(lst))\n",
    "    largest_n = sorted(indexed_lst, key=lambda x: x[1], reverse=True)[:n]\n",
    "    return [index for index, value in largest_n]"
   ]
  },
  {
   "cell_type": "code",
   "execution_count": null,
   "id": "c4337c0b-461d-48d3-8b95-313dbe66bac9",
   "metadata": {},
   "outputs": [],
   "source": [
    "import math\n",
    "def integer_sqrt(x):\n",
    "    return math.floor(math.sqrt(x))"
   ]
  },
  {
   "cell_type": "code",
   "execution_count": null,
   "id": "7afb036b-b4c2-4a86-a34b-86fe085b0a4b",
   "metadata": {},
   "outputs": [],
   "source": [
    "#gnn评估\n",
    "def gnn_max(matrix):\n",
    "    k=integer_sqrt(matrix.shape[0])\n",
    "    A_test=torch.Tensor(matrix)\n",
    "    X_test=torch.eye(A_test.size(0))\n",
    "    T=Net(A_test,X_test.size(0), 10, 1)\n",
    "    prob=[]\n",
    "    for i in range(0,len(matrix)):\n",
    "        prob.append(T(A_test)[i,0].item())\n",
    "    max_index_rank=find_largest_n_indices(prob, k)\n",
    "    return max_index_rank"
   ]
  },
  {
   "cell_type": "code",
   "execution_count": null,
   "id": "79b7ef60-a510-49bc-ab07-546fc8241010",
   "metadata": {
    "tags": []
   },
   "outputs": [],
   "source": [
    "#GNN选择策略\n",
    "def greedy_solution_gnn(matrix,i):\n",
    "    visited_node=[]\n",
    "    while graph_is_ring(matrix) ==True:\n",
    "        node_rank=gnn_max(matrix)\n",
    "        node=node_rank[i]\n",
    "        matrix[node,:]=0\n",
    "        matrix[:,node]=0\n",
    "        visited_node.append(node)\n",
    "    return  visited_node"
   ]
  },
  {
   "cell_type": "code",
   "execution_count": null,
   "id": "6758b971-e3d4-42a0-ad63-4ade20f86486",
   "metadata": {
    "tags": []
   },
   "outputs": [],
   "source": [
    "#最小反馈顶点集\n",
    "def min_gnn_solution(matrix,k):\n",
    "    min_solution=matrix_test0.shape[0];\n",
    "    for i in range (0,k):\n",
    "        solution_gnn=greedy_solution_gnn(matrix,i)\n",
    "        solution_gnn=np.unique(solution_gnn)\n",
    "        len_solution=len(solution_gnn)\n",
    "        if len_solution<min_solution:\n",
    "            min_solution=len_solution\n",
    "        return min_solution"
   ]
  },
  {
   "cell_type": "code",
   "execution_count": null,
   "id": "d6a1d77f-a23b-47c5-a10b-926c88bb43a8",
   "metadata": {
    "tags": []
   },
   "outputs": [],
   "source": [
    "#GNN\n",
    "import copy\n",
    "matrix_test0=copy.copy(matrix_test)\n",
    "k=10\n",
    "min_solution=min_gnn_solution(matrix_test0,k);\n",
    "print(min_solution)\n"
   ]
  },
  {
   "cell_type": "code",
   "execution_count": null,
   "id": "77430458-926c-4893-8312-c6d69e01891b",
   "metadata": {
    "tags": []
   },
   "outputs": [],
   "source": [
    "print(len(solution_sum))\n",
    "print(len(solution_mul))\n",
    "print(len(solution_max))\n",
    "print(min_solution)"
   ]
  }
 ],
 "metadata": {
  "kernelspec": {
   "display_name": "Python 3 (ipykernel)",
   "language": "python",
   "name": "python3"
  },
  "language_info": {
   "codemirror_mode": {
    "name": "ipython",
    "version": 3
   },
   "file_extension": ".py",
   "mimetype": "text/x-python",
   "name": "python",
   "nbconvert_exporter": "python",
   "pygments_lexer": "ipython3",
   "version": "3.11.7"
  }
 },
 "nbformat": 4,
 "nbformat_minor": 5
}

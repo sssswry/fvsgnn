{
 "cells": [
  {
   "cell_type": "code",
   "execution_count": null,
   "id": "787c56b4-3525-4616-b7f9-0403d357b795",
   "metadata": {
    "tags": []
   },
   "outputs": [],
   "source": [
    "import numpy as np\n",
    "import matplotlib.pyplot as plt\n",
    "import networkx as nx\n",
    "import queue \n",
    "import copy\n",
    "from itertools import combinations\n",
    "#参数设置 Parameter settings\n",
    "n=20\n",
    "p=0.1\n",
    "G=nx.erdos_renyi_graph(n,p,directed=True)\n",
    "nx.draw(G, with_labels=True, node_color='skyblue',\n",
    "        edge_color='black')\n",
    "plt.show()\n",
    "A=nx.adjacency_matrix(G)\n",
    "print(G.number_of_edges())\n",
    "#print(A)\n",
    "matrix=A.todense()\n",
    "print(matrix)"
   ]
  },
  {
   "cell_type": "code",
   "execution_count": 2,
   "id": "90c4e82c-ee5a-498a-b4ce-1ae53e034034",
   "metadata": {},
   "outputs": [],
   "source": [
    "#出度\n",
    "row_summs=np.sum(matrix,axis=1)\n",
    "#入度\n",
    "column_summs=np.sum(matrix,axis=0)\n",
    "#入度的度\n",
    "degrees= matrix.sum(axis=0)"
   ]
  },
  {
   "cell_type": "code",
   "execution_count": 3,
   "id": "6cefdde4-7421-481f-a06d-82ac33ca1fbb",
   "metadata": {},
   "outputs": [],
   "source": [
    "#判断有环没有\n",
    "import queue\n",
    "def graph_is_ring(matrix):\n",
    "    n=len(matrix)\n",
    "    q=queue.Queue()\n",
    "    visited=[]\n",
    "    degrees= matrix.sum(axis=0)\n",
    "    for i in range (0,n):\n",
    "        if degrees[i]==0:\n",
    "            q.put(i)\n",
    "            visited.append(i)\n",
    "    while not q.empty():\n",
    "        i=q.get()\n",
    "        for j in range(0,n):\n",
    "            if int(matrix[i][j])==1:\n",
    "                degrees[j]-=1\n",
    "                if degrees[j]==0:\n",
    "                    q.put(j)\n",
    "                    visited.append(j)\n",
    "    if len(visited)==n:\n",
    "         return False\n",
    "    else:\n",
    "         return  True"
   ]
  },
  {
   "cell_type": "code",
   "execution_count": 4,
   "id": "36d0b0c3-9436-4ab7-858a-c11e01c31ccc",
   "metadata": {},
   "outputs": [],
   "source": [
    "#Generate possible solution vectors\n",
    "def solution_vector(n,r):\n",
    "    iterable=list(range(n))\n",
    "    result=combinations(iterable,r)\n",
    "    list_result=list(result)\n",
    "    return  list_result\n",
    "#Determine whether it is a solution vector\n",
    "def sol_is_fvs(matrix,vector_solution):\n",
    "    for i in range(0,len(vector_solution)):\n",
    "            node=vector_solution[i]\n",
    "            matrix[node,:]=0\n",
    "            matrix[:,node]=0\n",
    "    return  graph_is_ring(matrix)\n",
    "#Brute force algorithm\n",
    "def baoli_solution(n,matrix):\n",
    "    solution_node=[]\n",
    "    for i in range(0,n):\n",
    "        list_result=solution_vector(n,i)\n",
    "        for j in range (0,len(list_result)):\n",
    "            matrix_test=copy.copy(matrix)\n",
    "            vector_solution=list(list_result[j])\n",
    "            flag= sol_is_fvs(matrix_test,vector_solution)\n",
    "            if flag==False:\n",
    "                #solution_node=vector_solution\n",
    "                return vector_solution\n",
    "               # return solution_node\n",
    "               # stop=True\n",
    "              #  break\n",
    "       # if stop:\n",
    "          #  break\n",
    "   # return solution_node"
   ]
  },
  {
   "cell_type": "code",
   "execution_count": 5,
   "id": "9ac9b930-4a65-427a-aa2c-e8d710709705",
   "metadata": {},
   "outputs": [],
   "source": [
    "# Brute force algorithm for many solutions\n",
    "def bao_many(n,matrix,L):\n",
    "    solution_node=[]\n",
    "    matrix_solution=[]\n",
    "    list_result=solution_vector(n,L)\n",
    "    for j in range (0,len(list_result)):\n",
    "        matrix_test=copy.copy(matrix)\n",
    "        vector_solution=list(list_result[j])\n",
    "        flag= sol_is_fvs(matrix_test,vector_solution)\n",
    "        if flag==False:\n",
    "            matrix_solution.append(vector_solution)\n",
    "                #solution_node=vector_solution\n",
    "           # print(vector_solution)\n",
    "               # return solution_node\n",
    "               # stop=True\n",
    "              #  break\n",
    "       # if stop:\n",
    "          #  break\n",
    "    return matrix_solution"
   ]
  },
  {
   "cell_type": "code",
   "execution_count": null,
   "id": "7bca7882-a1f9-4bb1-b950-2f064fa58230",
   "metadata": {},
   "outputs": [],
   "source": [
    "matrix_test=copy.copy(matrix)\n",
    "solution_node=baoli_solution(n,matrix)\n",
    "print(solution_node)"
   ]
  },
  {
   "cell_type": "code",
   "execution_count": null,
   "id": "d1271f03-440b-4c84-97e6-49913d87fddb",
   "metadata": {
    "tags": []
   },
   "outputs": [],
   "source": [
    "L=len(solution_node)\n",
    "matrix_solution=bao_many(n,matrix,L)\n",
    "print(matrix_solution)"
   ]
  },
  {
   "cell_type": "raw",
   "id": "54bbef26-af8c-442f-ad9a-5994994608b0",
   "metadata": {
    "tags": []
   },
   "source": [
    "import pandas as pd\n",
    "adj_matrix=np.array(matrix)\n",
    "lables=np.array(matrix_solution)\n",
    "#更新数据\n",
    "existingdata=np.load('graphs_data.npz')\n",
    "new_data={'adj_matrix_200':adj_matrix,\n",
    "         'lables_200':lables}\n",
    "updated_data={**existingdata,**new_data}\n",
    "np.savez('graphs_data.npz',\n",
    "        **updated_data)"
   ]
  },
  {
   "cell_type": "raw",
   "id": "dcf9dce9-d300-40fc-9f64-8c8826f9ecb6",
   "metadata": {
    "tags": []
   },
   "source": [
    "data=np.load('graphs_data.npz')\n",
    "print(len(data))\n",
    "#print(data['lables_50'])\n"
   ]
  },
  {
   "cell_type": "code",
   "execution_count": null,
   "id": "48dc84d8-1637-4df8-b6aa-8c87def95e3e",
   "metadata": {
    "tags": []
   },
   "outputs": [],
   "source": []
  },
  {
   "cell_type": "markdown",
   "id": "0cc8c841-9ecf-4fce-89dc-7eb4fb69db29",
   "metadata": {},
   "source": []
  }
 ],
 "metadata": {
  "kernelspec": {
   "display_name": "Python 3 (ipykernel)",
   "language": "python",
   "name": "python3"
  },
  "language_info": {
   "codemirror_mode": {
    "name": "ipython",
    "version": 3
   },
   "file_extension": ".py",
   "mimetype": "text/x-python",
   "name": "python",
   "nbconvert_exporter": "python",
   "pygments_lexer": "ipython3",
   "version": "3.11.7"
  }
 },
 "nbformat": 4,
 "nbformat_minor": 5
}
